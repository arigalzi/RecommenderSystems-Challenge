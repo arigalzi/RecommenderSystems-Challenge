{
 "cells": [
  {
   "cell_type": "markdown",
   "metadata": {
    "id": "J2h3pD0SZije",
    "pycharm": {
     "name": "#%% md\n"
    }
   },
   "source": [
    "\n",
    "# Data preprocessing"
   ]
  },
  {
   "cell_type": "code",
   "execution_count": 2,
   "metadata": {
    "pycharm": {
     "is_executing": true,
     "name": "#%%\n"
    }
   },
   "outputs": [],
   "source": [
    "import numpy as np\n",
    "import scipy.sparse as sps\n",
    "from sklearn import feature_extraction\n",
    "\n",
    "from Evaluation.Evaluator import EvaluatorHoldout\n",
    "from Data_manager.split_functions.split_train_validation_random_holdout import split_train_in_two_percentage_global_sample\n",
    "from Recommenders.Hybrids.Hybrid_SlimElastic_Rp3 import Hybrid_SlimElastic_Rp3\n",
    "from Recommenders.Incremental_Training_Early_Stopping import Incremental_Training_Early_Stopping\n",
    "from Recommenders.KNN.ItemKNNCBFWeightedSimilarityRecommender import ItemKNNCBFWeightedSimilarityRecommender\n",
    "from Recommenders.KNN.ItemKNNCustomSimilarityRecommender import ItemKNNCustomSimilarityRecommender\n",
    "from Recommenders.MatrixFactorization.IALSRecommender_implicit import IALSRecommender_implicit\n",
    "from Recommenders.Recommender_import_list import *\n",
    "from Recommenders.Recommender_utils import check_matrix\n",
    "from reader import load_urm, load_icm, load_target\n",
    "from run_all_algorithms import _get_instance"
   ]
  },
  {
   "cell_type": "code",
   "execution_count": 3,
   "metadata": {
    "pycharm": {
     "name": "#%%\n"
    }
   },
   "outputs": [],
   "source": [
    "res_dir = 'result_experiments/csv'\n",
    "output_root_path = \"../result_experiments/\"\n"
   ]
  },
  {
   "cell_type": "code",
   "execution_count": 4,
   "metadata": {
    "pycharm": {
     "name": "#%%\n"
    }
   },
   "outputs": [],
   "source": [
    "URM_all, user_id_unique, item_id_unique = load_urm()\n",
    "\n",
    "ICM_channel = load_icm(\"data_ICM_channel.csv\", weight=1)\n",
    "ICM_event = load_icm(\"data_ICM_event.csv\", weight=1)\n",
    "ICM_genre = load_icm(\"data_ICM_genre.csv\", weight=1)\n",
    "ICM_subgenre = load_icm(\"data_ICM_subgenre.csv\", weight=1)\n",
    "\n",
    "ICM_all = sps.hstack([ICM_genre, ICM_subgenre, ICM_channel, ICM_event]).tocsr()\n",
    "ICMs = [ICM_genre, ICM_subgenre, ICM_channel, ICM_event, ICM_all]"
   ]
  },
  {
   "cell_type": "code",
   "execution_count": 5,
   "metadata": {
    "pycharm": {
     "name": "#%%\n"
    }
   },
   "outputs": [
    {
     "name": "stdout",
     "output_type": "stream",
     "text": [
      "Warning: 40 (0.29 %) of 13650 users have no sampled items\n",
      "EvaluatorHoldout: Ignoring 13610 ( 0.3%) Users that have less than 1 test interactions\n"
     ]
    }
   ],
   "source": [
    "\n",
    "URM_train, URM_test = split_train_in_two_percentage_global_sample(URM_all, train_percentage = 0.90)\n",
    "# URM_train, URM_validation = split_train_in_two_percentage_global_sample(URM_train, train_percentage = 0.80)\n",
    "\n",
    "# evaluator_validation = EvaluatorHoldout(URM_validation, cutoff_list=[10])\n",
    "evaluator_test = EvaluatorHoldout(URM_test, cutoff_list=[10])\n",
    "\n",
    "\n",
    "#print(n_users)"
   ]
  },
  {
   "cell_type": "code",
   "execution_count": 6,
   "metadata": {
    "pycharm": {
     "name": "#%%\n"
    }
   },
   "outputs": [],
   "source": [
    "n_users = 13650\n",
    "n_item = 18059"
   ]
  },
  {
   "cell_type": "code",
   "execution_count": 7,
   "metadata": {
    "pycharm": {
     "name": "#%%\n"
    }
   },
   "outputs": [
    {
     "name": "stdout",
     "output_type": "stream",
     "text": [
      "profile [147 540 130 ... 240 166 299] (13650,)\n",
      "block_size 6825\n",
      "sorted users [11326  9021 11781 ...  1141  8526   317]\n"
     ]
    }
   ],
   "source": [
    "profile_length = np.ediff1d(sps.csr_matrix(URM_train).indptr)\n",
    "print(\"profile\", profile_length, profile_length.shape)\n",
    "\n",
    "block_size = int(len(profile_length)*0.5)\n",
    "print(\"block_size\",block_size)\n",
    "\n",
    "sorted_users = np.argsort(profile_length)\n",
    "print(\"sorted users\", sorted_users)"
   ]
  },
  {
   "cell_type": "code",
   "execution_count": 51,
   "metadata": {
    "scrolled": true
   },
   "outputs": [
    {
     "data": {
      "text/plain": [
       "array([3909, 5214, 2731, 1154,  407,  148,   48,   31,    6,    2])"
      ]
     },
     "execution_count": 51,
     "metadata": {},
     "output_type": "execute_result"
    },
    {
     "data": {
      "image/png": "[encoded data removed]",
      "text/plain": [
       "<Figure size 432x288 with 1 Axes>"
      ]
     },
     "metadata": {
      "needs_background": "light"
     },
     "output_type": "display_data"
    }
   ],
   "source": [
    "import matplotlib.pyplot as plt\n",
    "counts, bins = np.histogram(profile_length)\n",
    "plt.hist(bins[:-1], bins, weights=counts)\n",
    "bins\n",
    "counts"
   ]
  },
  {
   "cell_type": "code",
   "execution_count": 52,
   "metadata": {
    "pycharm": {
     "name": "#%%\n"
    }
   },
   "outputs": [
    {
     "name": "stdout",
     "output_type": "stream",
     "text": [
      "Group 0, #users in group 6825, average p.len 178.63, median 187.0, min 7, max 306\n",
      "Group 1, #users in group 6825, average p.len 518.38, median 461.0, min 306, max 1967\n"
     ]
    }
   ],
   "source": [
    "for group_id in range(0, 2):\n",
    "    start_pos = group_id * block_size\n",
    "    end_pos = min((group_id+1) * block_size, len(profile_length))\n",
    "    \n",
    "    users_in_group = sorted_users[start_pos:end_pos]\n",
    "    \n",
    "    users_in_group_p_len = profile_length[users_in_group]\n",
    "    \n",
    "    print(\"Group {}, #users in group {}, average p.len {:.2f}, median {}, min {}, max {}\".format(\n",
    "        group_id, \n",
    "        users_in_group.shape[0],\n",
    "        users_in_group_p_len.mean(),\n",
    "        np.median(users_in_group_p_len),\n",
    "        users_in_group_p_len.min(),\n",
    "        users_in_group_p_len.max()))"
   ]
  },
  {
   "cell_type": "code",
   "execution_count": 56,
   "metadata": {},
   "outputs": [
    {
     "name": "stdout",
     "output_type": "stream",
     "text": [
      "Similarity column 13650 (100.0%), 345.08 column/sec. Elapsed time 39.56 sec\n",
      "Similarity column 18059 (100.0%), 931.73 column/sec. Elapsed time 19.38 sec\n",
      "SLIMElasticNetRecommender: Loading model from file '../result_experiments/slimelastic_urmall.zip'\n",
      "SLIMElasticNetRecommender: Loading complete\n",
      "PureSVDRecommender: Computing SVD decomposition...\n",
      "PureSVDRecommender: Computing SVD decomposition... done in 2.90 sec\n"
     ]
    }
   ],
   "source": [
    "from Recommenders.NonPersonalizedRecommender import TopPop\n",
    "from Recommenders.KNN.UserKNNCFRecommender import UserKNNCFRecommender\n",
    "from Recommenders.KNN.ItemKNNCFRecommender import ItemKNNCFRecommender\n",
    "from Recommenders.SLIM.Cython.SLIM_BPR_Cython import SLIM_BPR_Cython\n",
    "from Recommenders.GraphBased.P3alphaRecommender import P3alphaRecommender\n",
    "from Recommenders.GraphBased.RP3betaRecommender import RP3betaRecommender\n",
    "from Recommenders.MatrixFactorization.IALSRecommender import IALSRecommender\n",
    "from Recommenders.SLIM.SLIMElasticNetRecommender import SLIMElasticNetRecommender\n",
    "\n",
    "MAP_recommender_per_group = {}\n",
    "\n",
    "collaborative_recommender_class = {\"TopPop\": TopPop,\n",
    "                                   \"UserKNNCF\": UserKNNCFRecommender,\n",
    "                                   \"ItemKNNCF\": ItemKNNCFRecommender,\n",
    "                                   \"P3alpha\": P3alphaRecommender,\n",
    "                                   \"RP3beta\": RP3betaRecommender,\n",
    "                                   \"SLIMElasticNetRecommender\": SLIMElasticNetRecommender,\n",
    "                                   \"PureSVDRecommender\": PureSVDRecommender,\n",
    "                                   }\n",
    "\n",
    "#content_recommender_class = {\"ItemKNNCBF\": ItemKNNCBFRecommender,\n",
    "#                             \"ItemKNNCFCBF\": ItemKNN_CFCBF_Hybrid_Recommender\n",
    "#                            }\n",
    "\n",
    "recommender_object_dict = {}\n",
    "\n",
    "for label, recommender_class in collaborative_recommender_class.items():\n",
    "\n",
    "            recommender_object = recommender_class(URM_train)\n",
    "\n",
    "            if isinstance(recommender_object, ItemKNNCFRecommender):\n",
    "                fit_params = {\"topK\": 200, \"shrink\": 200, \"feature_weighting\": \"TF-IDF\"}\n",
    "            elif isinstance(recommender_object, IALSRecommender):\n",
    "                fit_params = {'num_factors': 55, 'epochs': 50, 'confidence_scaling': 'log',\n",
    "                              'alpha': 0.06164752624981533, 'epsilon': 0.21164021855039056, 'reg': 0.002507116338282967}\n",
    "            elif isinstance(recommender_object, RP3betaRecommender):\n",
    "                fit_params = {'topK': 40, 'alpha': 0.4208737801266599, 'beta': 0.5251543657397256,\n",
    "                              'normalize_similarity': True}\n",
    "            elif isinstance(recommender_object, PureSVDRecommender):\n",
    "                fit_params = {'num_factors' :29}    \n",
    "            else:\n",
    "                fit_params = {}     \n",
    "\n",
    "            if isinstance(recommender_object, SLIMElasticNetRecommender):\n",
    "              recommender_object.load_model(output_root_path, file_name=\"slimelastic_urmall.zip\")\n",
    "            else:\n",
    "              recommender_object.fit(**fit_params)\n",
    "\n",
    "            recommender_object_dict[label] = recommender_object\n",
    "\n",
    "# for label, recommender_class in content_recommender_class.items():\n",
    "#    recommender_object = recommender_class(URM_train, ICM_genres)\n",
    "#    recommender_object.fit()\n",
    "#    recommender_object_dict[label] = recommender_object\n"
   ]
  },
  {
   "cell_type": "code",
   "execution_count": 54,
   "metadata": {},
   "outputs": [
    {
     "name": "stdout",
     "output_type": "stream",
     "text": [
      "content-based-filtering.ipynb  non-personalized.ipynb\n",
      "groupusers.ipynb               preprocessing.ipynb\n"
     ]
    }
   ],
   "source": [
    "%ls"
   ]
  },
  {
   "cell_type": "code",
   "execution_count": 57,
   "metadata": {},
   "outputs": [
    {
     "name": "stdout",
     "output_type": "stream",
     "text": [
      "Group 0, #users in group 6825, average p.len 178.63, median 187.0, min 7, max 306\n",
      "EvaluatorHoldout: Ignoring 13614 ( 0.3%) Users that have less than 1 test interactions\n",
      "EvaluatorHoldout: Ignoring 6825 Users\n",
      "EvaluatorHoldout: Processed 6789 (100.0%) in 8.79 sec. Users per second: 772\n",
      "EvaluatorHoldout: Processed 6789 (100.0%) in 6.67 sec. Users per second: 1017\n",
      "EvaluatorHoldout: Processed 6789 (100.0%) in 17.59 sec. Users per second: 386\n",
      "EvaluatorHoldout: Processed 6789 (100.0%) in 6.27 sec. Users per second: 1083\n",
      "EvaluatorHoldout: Processed 6789 (100.0%) in 7.12 sec. Users per second: 953\n",
      "EvaluatorHoldout: Processed 6789 (100.0%) in 12.57 sec. Users per second: 540\n",
      "EvaluatorHoldout: Processed 6789 (100.0%) in 8.96 sec. Users per second: 758\n",
      "Group 1, #users in group 6825, average p.len 518.38, median 461.0, min 306, max 1967\n",
      "EvaluatorHoldout: Ignoring 13614 ( 0.3%) Users that have less than 1 test interactions\n",
      "EvaluatorHoldout: Ignoring 6825 Users\n",
      "EvaluatorHoldout: Processed 6825 (100.0%) in 8.16 sec. Users per second: 836\n",
      "EvaluatorHoldout: Processed 6825 (100.0%) in 9.54 sec. Users per second: 716\n",
      "EvaluatorHoldout: Processed 6825 (100.0%) in 24.26 sec. Users per second: 281\n",
      "EvaluatorHoldout: Processed 6825 (100.0%) in 6.47 sec. Users per second: 1055\n",
      "EvaluatorHoldout: Processed 6825 (100.0%) in 8.20 sec. Users per second: 832\n",
      "EvaluatorHoldout: Processed 6825 (100.0%) in 16.09 sec. Users per second: 424\n",
      "EvaluatorHoldout: Processed 6825 (100.0%) in 7.40 sec. Users per second: 922\n"
     ]
    }
   ],
   "source": [
    "cutoff = 10\n",
    "\n",
    "for group_id in range(0, 2):\n",
    "    \n",
    "    start_pos = group_id*block_size\n",
    "    end_pos = min((group_id+1)*block_size, len(profile_length))\n",
    "    \n",
    "    users_in_group = sorted_users[start_pos:end_pos]\n",
    "    \n",
    "    users_in_group_p_len = profile_length[users_in_group]\n",
    "    \n",
    "    print(\"Group {}, #users in group {}, average p.len {:.2f}, median {}, min {}, max {}\".format(\n",
    "        group_id, \n",
    "        users_in_group.shape[0],\n",
    "        users_in_group_p_len.mean(),\n",
    "        np.median(users_in_group_p_len),\n",
    "        users_in_group_p_len.min(),\n",
    "        users_in_group_p_len.max()))\n",
    "    \n",
    "    \n",
    "    users_not_in_group_flag = np.isin(sorted_users, users_in_group, invert=True)\n",
    "    users_not_in_group = sorted_users[users_not_in_group_flag]\n",
    "    \n",
    "    evaluator_test = EvaluatorHoldout(URM_test, cutoff_list=[cutoff], ignore_users=users_not_in_group)\n",
    "    \n",
    "    for label, recommender in recommender_object_dict.items():\n",
    "        result_df, _ = evaluator_test.evaluateRecommender(recommender)\n",
    "        if label in MAP_recommender_per_group:\n",
    "            MAP_recommender_per_group[label].append(result_df.loc[cutoff][\"MAP\"])\n",
    "        else:\n",
    "            MAP_recommender_per_group[label] = [result_df.loc[cutoff][\"MAP\"]]"
   ]
  },
  {
   "cell_type": "code",
   "execution_count": 58,
   "metadata": {},
   "outputs": [
    {
     "data": {
      "image/png": "[encoded data removed]",
      "text/plain": [
       "<Figure size 1152x648 with 1 Axes>"
      ]
     },
     "metadata": {
      "needs_background": "light"
     },
     "output_type": "display_data"
    }
   ],
   "source": [
    "import matplotlib.pyplot as plt\n",
    "%matplotlib inline  \n",
    "\n",
    "_ = plt.figure(figsize=(16, 9))\n",
    "for label, recommender in recommender_object_dict.items():\n",
    "    results = MAP_recommender_per_group[label]\n",
    "    plt.scatter(x=np.arange(0,len(results)), y=results, label=label)\n",
    "plt.ylabel('MAP')\n",
    "plt.xlabel('User Group')\n",
    "plt.legend()\n",
    "plt.show()"
   ]
  },
  {
   "cell_type": "code",
   "execution_count": null,
   "metadata": {},
   "outputs": [],
   "source": []
  }
 ],
 "metadata": {
  "colab": {
   "collapsed_sections": [
    "t39WS27HZijp"
   ],
   "name": "basic recommender.ipynb",
   "provenance": []
  },
  "kernelspec": {
   "display_name": "Python 3 (ipykernel)",
   "language": "python",
   "name": "python3"
  },
  "language_info": {
   "codemirror_mode": {
    "name": "ipython",
    "version": 3
   },
   "file_extension": ".py",
   "mimetype": "text/x-python",
   "name": "python",
   "nbconvert_exporter": "python",
   "pygments_lexer": "ipython3",
   "version": "3.9.7"
  }
 },
 "nbformat": 4,
 "nbformat_minor": 4
}
