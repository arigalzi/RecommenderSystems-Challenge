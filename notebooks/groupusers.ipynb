{
 "cells": [
  {
   "cell_type": "markdown",
   "metadata": {
    "id": "J2h3pD0SZije",
    "pycharm": {
     "name": "#%% md\n"
    }
   },
   "source": [
    "\n",
    "# Data preprocessing"
   ]
  },
  {
   "cell_type": "code",
   "execution_count": 4,
   "metadata": {},
   "outputs": [
    {
     "name": "stdout",
     "output_type": "stream",
     "text": [
      "/Users/fulco/Desktop/recommender-systems-challenge\n"
     ]
    }
   ],
   "source": [
    "%cd .."
   ]
  },
  {
   "cell_type": "code",
   "execution_count": 9,
   "metadata": {
    "pycharm": {
     "is_executing": true,
     "name": "#%%\n"
    }
   },
   "outputs": [
    {
     "ename": "ModuleNotFoundError",
     "evalue": "No module named 'Recommenders.Hybrids.HybridSimilarity_ElasticNet_BPR'",
     "output_type": "error",
     "traceback": [
      "\u001B[0;31m---------------------------------------------------------------------------\u001B[0m",
      "\u001B[0;31mModuleNotFoundError\u001B[0m                       Traceback (most recent call last)",
      "\u001B[0;32m/var/folders/yk/v_qh7kmd45lb8586gdb633v40000gn/T/ipykernel_4577/3513549344.py\u001B[0m in \u001B[0;36m<module>\u001B[0;34m\u001B[0m\n\u001B[1;32m      6\u001B[0m \u001B[0;32mfrom\u001B[0m \u001B[0mData_manager\u001B[0m\u001B[0;34m.\u001B[0m\u001B[0msplit_functions\u001B[0m\u001B[0;34m.\u001B[0m\u001B[0msplit_train_validation_random_holdout\u001B[0m \u001B[0;32mimport\u001B[0m \u001B[0msplit_train_in_two_percentage_global_sample\u001B[0m\u001B[0;34m\u001B[0m\u001B[0;34m\u001B[0m\u001B[0m\n\u001B[1;32m      7\u001B[0m \u001B[0;32mfrom\u001B[0m \u001B[0mreader\u001B[0m \u001B[0;32mimport\u001B[0m \u001B[0mload_urm\u001B[0m\u001B[0;34m,\u001B[0m \u001B[0mload_icm\u001B[0m\u001B[0;34m,\u001B[0m \u001B[0mload_target\u001B[0m\u001B[0;34m\u001B[0m\u001B[0;34m\u001B[0m\u001B[0m\n\u001B[0;32m----> 8\u001B[0;31m \u001B[0;32mfrom\u001B[0m \u001B[0mevaluate\u001B[0m \u001B[0;32mimport\u001B[0m \u001B[0m_get_instance\u001B[0m\u001B[0;34m\u001B[0m\u001B[0;34m\u001B[0m\u001B[0m\n\u001B[0m",
      "\u001B[0;32m~/Desktop/recommender-systems-challenge/evaluate.py\u001B[0m in \u001B[0;36m<module>\u001B[0;34m\u001B[0m\n\u001B[1;32m     15\u001B[0m \u001B[0;32mfrom\u001B[0m \u001B[0mRecommenders\u001B[0m\u001B[0;34m.\u001B[0m\u001B[0mHybrids\u001B[0m\u001B[0;34m.\u001B[0m\u001B[0mHybridRatings_SLIM_EASE_R_PureSVD\u001B[0m \u001B[0;32mimport\u001B[0m \u001B[0mHybridRatings_SLIM_PureSVD_EASE_R\u001B[0m\u001B[0;34m\u001B[0m\u001B[0;34m\u001B[0m\u001B[0m\n\u001B[1;32m     16\u001B[0m \u001B[0;32mfrom\u001B[0m \u001B[0mRecommenders\u001B[0m\u001B[0;34m.\u001B[0m\u001B[0mHybrids\u001B[0m\u001B[0;34m.\u001B[0m\u001B[0mHybridRatings_SLIM_Rp3\u001B[0m \u001B[0;32mimport\u001B[0m \u001B[0mHybridRatings_SLIM_Rp3\u001B[0m\u001B[0;34m\u001B[0m\u001B[0;34m\u001B[0m\u001B[0m\n\u001B[0;32m---> 17\u001B[0;31m \u001B[0;32mfrom\u001B[0m \u001B[0mRecommenders\u001B[0m\u001B[0;34m.\u001B[0m\u001B[0mHybrids\u001B[0m\u001B[0;34m.\u001B[0m\u001B[0mHybridSimilarity_ElasticNet_BPR\u001B[0m \u001B[0;32mimport\u001B[0m \u001B[0mHybridSimilarity_ElasticNet_BPR\u001B[0m\u001B[0;34m\u001B[0m\u001B[0;34m\u001B[0m\u001B[0m\n\u001B[0m\u001B[1;32m     18\u001B[0m \u001B[0;32mfrom\u001B[0m \u001B[0mRecommenders\u001B[0m\u001B[0;34m.\u001B[0m\u001B[0mHybrids\u001B[0m\u001B[0;34m.\u001B[0m\u001B[0mHybridSimilarity_SLIM_Rp3\u001B[0m \u001B[0;32mimport\u001B[0m \u001B[0mHybridSimilarity_SLIM_Rp3\u001B[0m\u001B[0;34m\u001B[0m\u001B[0;34m\u001B[0m\u001B[0m\n\u001B[1;32m     19\u001B[0m \u001B[0;32mfrom\u001B[0m \u001B[0mRecommenders\u001B[0m\u001B[0;34m.\u001B[0m\u001B[0mHybrids\u001B[0m\u001B[0;34m.\u001B[0m\u001B[0mHybridSimilarity_withGroupedUsers\u001B[0m \u001B[0;32mimport\u001B[0m \u001B[0mHybridSimilarity_withGroupedusers\u001B[0m\u001B[0;34m\u001B[0m\u001B[0;34m\u001B[0m\u001B[0m\n",
      "\u001B[0;31mModuleNotFoundError\u001B[0m: No module named 'Recommenders.Hybrids.HybridSimilarity_ElasticNet_BPR'"
     ]
    }
   ],
   "source": [
    "import numpy as np\n",
    "import scipy.sparse as sps\n",
    "from sklearn import feature_extraction\n",
    "\n",
    "from Evaluation.Evaluator import EvaluatorHoldout\n",
    "from Data_manager.split_functions.split_train_validation_random_holdout import split_train_in_two_percentage_global_sample\n",
    "from reader import load_urm, load_icm, load_target\n",
    "from evaluate import _get_instance"
   ]
  },
  {
   "cell_type": "code",
   "execution_count": null,
   "metadata": {
    "pycharm": {
     "is_executing": true,
     "name": "#%%\n"
    }
   },
   "outputs": [],
   "source": [
    "res_dir = 'result_experiments/csv'\n",
    "output_root_path = \"../result_experiments/\"\n"
   ]
  },
  {
   "cell_type": "code",
   "execution_count": null,
   "metadata": {
    "pycharm": {
     "is_executing": true,
     "name": "#%%\n"
    }
   },
   "outputs": [],
   "source": [
    "URM_all, user_id_unique, item_id_unique = load_urm()\n",
    "\n",
    "ICM_channel = load_icm(\"data_ICM_channel.csv\", weight=1)\n",
    "ICM_event = load_icm(\"data_ICM_event.csv\", weight=1)\n",
    "ICM_genre = load_icm(\"data_ICM_genre.csv\", weight=1)\n",
    "ICM_subgenre = load_icm(\"data_ICM_subgenre.csv\", weight=1)\n",
    "\n",
    "ICM_all = sps.hstack([ICM_genre, ICM_subgenre, ICM_channel, ICM_event]).tocsr()\n",
    "ICMs = [ICM_genre, ICM_subgenre, ICM_channel, ICM_event, ICM_all]"
   ]
  },
  {
   "cell_type": "code",
   "execution_count": null,
   "metadata": {
    "pycharm": {
     "is_executing": true,
     "name": "#%%\n"
    }
   },
   "outputs": [],
   "source": [
    "\n",
    "URM_train, URM_test = split_train_in_two_percentage_global_sample(URM_all, train_percentage = 0.90)\n",
    "# URM_train, URM_validation = split_train_in_two_percentage_global_sample(URM_train, train_percentage = 0.80)\n",
    "\n",
    "# evaluator_validation = EvaluatorHoldout(URM_validation, cutoff_list=[10])\n",
    "evaluator_test = EvaluatorHoldout(URM_test, cutoff_list=[10])\n",
    "\n",
    "\n",
    "#print(n_users)"
   ]
  },
  {
   "cell_type": "code",
   "execution_count": null,
   "metadata": {
    "pycharm": {
     "is_executing": true,
     "name": "#%%\n"
    }
   },
   "outputs": [],
   "source": [
    "n_users = 13650\n",
    "n_item = 18059"
   ]
  },
  {
   "cell_type": "code",
   "execution_count": null,
   "metadata": {
    "pycharm": {
     "is_executing": true,
     "name": "#%%\n"
    }
   },
   "outputs": [],
   "source": [
    "profile_length = np.ediff1d(sps.csr_matrix(URM_train).indptr)\n",
    "print(\"profile\", profile_length, profile_length.shape)\n",
    "\n",
    "block_size = int(len(profile_length)*0.5)\n",
    "print(\"block_size\",block_size)\n",
    "\n",
    "sorted_users = np.argsort(profile_length)\n",
    "print(\"sorted users\", sorted_users)"
   ]
  },
  {
   "cell_type": "code",
   "execution_count": null,
   "metadata": {
    "pycharm": {
     "is_executing": true
    },
    "scrolled": true
   },
   "outputs": [],
   "source": [
    "import matplotlib.pyplot as plt\n",
    "counts, bins = np.histogram(profile_length)\n",
    "plt.hist(bins[:-1], bins, weights=counts)\n",
    "bins\n",
    "counts"
   ]
  },
  {
   "cell_type": "code",
   "execution_count": null,
   "metadata": {
    "pycharm": {
     "is_executing": true,
     "name": "#%%\n"
    }
   },
   "outputs": [],
   "source": [
    "for group_id in range(0, 2):\n",
    "    start_pos = group_id * block_size\n",
    "    end_pos = min((group_id+1) * block_size, len(profile_length))\n",
    "    \n",
    "    users_in_group = sorted_users[start_pos:end_pos]\n",
    "    \n",
    "    users_in_group_p_len = profile_length[users_in_group]\n",
    "    \n",
    "    print(\"Group {}, #users in group {}, average p.len {:.2f}, median {}, min {}, max {}\".format(\n",
    "        group_id, \n",
    "        users_in_group.shape[0],\n",
    "        users_in_group_p_len.mean(),\n",
    "        np.median(users_in_group_p_len),\n",
    "        users_in_group_p_len.min(),\n",
    "        users_in_group_p_len.max()))"
   ]
  },
  {
   "cell_type": "code",
   "execution_count": null,
   "metadata": {
    "pycharm": {
     "is_executing": true
    }
   },
   "outputs": [],
   "source": [
    "from Recommenders.NonPersonalizedRecommender import TopPop\n",
    "from Recommenders.KNN.UserKNNCFRecommender import UserKNNCFRecommender\n",
    "from Recommenders.KNN.ItemKNNCFRecommender import ItemKNNCFRecommender\n",
    "from Recommenders.SLIM.Cython.SLIM_BPR_Cython import SLIM_BPR_Cython\n",
    "from Recommenders.GraphBased.P3alphaRecommender import P3alphaRecommender\n",
    "from Recommenders.GraphBased.RP3betaRecommender import RP3betaRecommender\n",
    "from Recommenders.MatrixFactorization.IALSRecommender import IALSRecommender\n",
    "from Recommenders.SLIM.SLIMElasticNetRecommender import SLIMElasticNetRecommender\n",
    "\n",
    "MAP_recommender_per_group = {}\n",
    "\n",
    "collaborative_recommender_class = {\"TopPop\": TopPop,\n",
    "                                   \"UserKNNCF\": UserKNNCFRecommender,\n",
    "                                   \"ItemKNNCF\": ItemKNNCFRecommender,\n",
    "                                   \"P3alpha\": P3alphaRecommender,\n",
    "                                   \"RP3beta\": RP3betaRecommender,\n",
    "                                   \"SLIMElasticNetRecommender\": SLIMElasticNetRecommender,\n",
    "                                   \"PureSVDRecommender\": PureSVDRecommender,\n",
    "                                   }\n",
    "\n",
    "#content_recommender_class = {\"ItemKNNCBF\": ItemKNNCBFRecommender,\n",
    "#                             \"ItemKNNCFCBF\": ItemKNN_CFCBF_Hybrid_Recommender\n",
    "#                            }\n",
    "\n",
    "recommender_object_dict = {}\n",
    "\n",
    "for label, recommender_class in collaborative_recommender_class.items():\n",
    "\n",
    "            recommender_object = recommender_class(URM_train)\n",
    "\n",
    "            if isinstance(recommender_object, ItemKNNCFRecommender):\n",
    "                fit_params = {\"topK\": 200, \"shrink\": 200, \"feature_weighting\": \"TF-IDF\"}\n",
    "            elif isinstance(recommender_object, IALSRecommender):\n",
    "                fit_params = {'num_factors': 55, 'epochs': 50, 'confidence_scaling': 'log',\n",
    "                              'alpha': 0.06164752624981533, 'epsilon': 0.21164021855039056, 'reg': 0.002507116338282967}\n",
    "            elif isinstance(recommender_object, RP3betaRecommender):\n",
    "                fit_params = {'topK': 40, 'alpha': 0.4208737801266599, 'beta': 0.5251543657397256,\n",
    "                              'normalize_similarity': True}\n",
    "            elif isinstance(recommender_object, PureSVDRecommender):\n",
    "                fit_params = {'num_factors' :29}    \n",
    "            else:\n",
    "                fit_params = {}     \n",
    "\n",
    "            if isinstance(recommender_object, SLIMElasticNetRecommender):\n",
    "              recommender_object.load_model(output_root_path, file_name=\"slimelastic_urmall.zip\")\n",
    "            else:\n",
    "              recommender_object.fit(**fit_params)\n",
    "\n",
    "            recommender_object_dict[label] = recommender_object\n",
    "\n",
    "# for label, recommender_class in content_recommender_class.items():\n",
    "#    recommender_object = recommender_class(URM_train, ICM_genres)\n",
    "#    recommender_object.fit()\n",
    "#    recommender_object_dict[label] = recommender_object\n"
   ]
  },
  {
   "cell_type": "code",
   "execution_count": null,
   "metadata": {
    "pycharm": {
     "is_executing": true
    }
   },
   "outputs": [],
   "source": [
    "%ls"
   ]
  },
  {
   "cell_type": "code",
   "execution_count": null,
   "metadata": {
    "pycharm": {
     "is_executing": true
    }
   },
   "outputs": [],
   "source": [
    "cutoff = 10\n",
    "\n",
    "for group_id in range(0, 2):\n",
    "    \n",
    "    start_pos = group_id*block_size\n",
    "    end_pos = min((group_id+1)*block_size, len(profile_length))\n",
    "    \n",
    "    users_in_group = sorted_users[start_pos:end_pos]\n",
    "    \n",
    "    users_in_group_p_len = profile_length[users_in_group]\n",
    "    \n",
    "    print(\"Group {}, #users in group {}, average p.len {:.2f}, median {}, min {}, max {}\".format(\n",
    "        group_id, \n",
    "        users_in_group.shape[0],\n",
    "        users_in_group_p_len.mean(),\n",
    "        np.median(users_in_group_p_len),\n",
    "        users_in_group_p_len.min(),\n",
    "        users_in_group_p_len.max()))\n",
    "    \n",
    "    \n",
    "    users_not_in_group_flag = np.isin(sorted_users, users_in_group, invert=True)\n",
    "    users_not_in_group = sorted_users[users_not_in_group_flag]\n",
    "    \n",
    "    evaluator_test = EvaluatorHoldout(URM_test, cutoff_list=[cutoff], ignore_users=users_not_in_group)\n",
    "    \n",
    "    for label, recommender in recommender_object_dict.items():\n",
    "        result_df, _ = evaluator_test.evaluateRecommender(recommender)\n",
    "        if label in MAP_recommender_per_group:\n",
    "            MAP_recommender_per_group[label].append(result_df.loc[cutoff][\"MAP\"])\n",
    "        else:\n",
    "            MAP_recommender_per_group[label] = [result_df.loc[cutoff][\"MAP\"]]"
   ]
  },
  {
   "cell_type": "code",
   "execution_count": null,
   "metadata": {
    "pycharm": {
     "is_executing": true
    }
   },
   "outputs": [],
   "source": [
    "import matplotlib.pyplot as plt\n",
    "%matplotlib inline  \n",
    "\n",
    "_ = plt.figure(figsize=(16, 9))\n",
    "for label, recommender in recommender_object_dict.items():\n",
    "    results = MAP_recommender_per_group[label]\n",
    "    plt.scatter(x=np.arange(0,len(results)), y=results, label=label)\n",
    "plt.ylabel('MAP')\n",
    "plt.xlabel('User Group')\n",
    "plt.legend()\n",
    "plt.show()"
   ]
  },
  {
   "cell_type": "code",
   "execution_count": null,
   "metadata": {
    "pycharm": {
     "is_executing": true
    }
   },
   "outputs": [],
   "source": []
  }
 ],
 "metadata": {
  "colab": {
   "collapsed_sections": [
    "t39WS27HZijp"
   ],
   "name": "basic recommender.ipynb",
   "provenance": []
  },
  "kernelspec": {
   "display_name": "Python 3 (ipykernel)",
   "language": "python",
   "name": "python3"
  },
  "language_info": {
   "codemirror_mode": {
    "name": "ipython",
    "version": 3
   },
   "file_extension": ".py",
   "mimetype": "text/x-python",
   "name": "python",
   "nbconvert_exporter": "python",
   "pygments_lexer": "ipython3",
   "version": "3.9.7"
  }
 },
 "nbformat": 4,
 "nbformat_minor": 4
}